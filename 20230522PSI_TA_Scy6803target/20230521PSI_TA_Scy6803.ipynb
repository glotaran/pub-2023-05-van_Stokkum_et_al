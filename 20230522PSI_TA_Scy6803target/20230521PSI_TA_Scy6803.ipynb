{
 "cells": [
  {
   "attachments": {},
   "cell_type": "markdown",
   "metadata": {},
   "source": [
    "## Target analysis of TA of WL-PSI of Scy6803"
   ]
  },
  {
   "attachments": {},
   "cell_type": "markdown",
   "metadata": {},
   "source": [
    "### Inspect data"
   ]
  },
  {
   "cell_type": "code",
   "execution_count": null,
   "metadata": {},
   "outputs": [],
   "source": [
    "from __future__ import annotations\n",
    "\n",
    "from datetime import datetime\n",
    "\n",
    "import matplotlib.pyplot as plt  # 3.3 or higher\n",
    "from cycler import cycler\n",
    "from glotaran.io import load_dataset, load_model, load_parameters, save_result\n",
    "from glotaran.optimization.optimize import optimize\n",
    "from glotaran.project.scheme import Scheme\n",
    "from glotaran.utils.ipython import display_file\n",
    "from pyglotaran_extras.plotting.plot_overview import plot_overview\n",
    "from pyglotaran_extras.plotting.plot_traces import (plot_fitted_traces,\n",
    "                                                    select_plot_wavelengths)\n",
    "from pyglotaran_extras.plotting.style import PlotStyle\n",
    "\n",
    "from pyglotaran_extras.inspect import show_a_matrixes"
   ]
  },
  {
   "cell_type": "code",
   "execution_count": null,
   "metadata": {},
   "outputs": [],
   "source": [
    "from pyglotaran_extras import plot_data_overview\n",
    "DATA_PATH1 = \"data/SCy6803WL/synWTred670_700nm_exc2RPnocycle1nm_reva.ascii\"\n",
    "DATA_PATH2 = \"data/SCy6803WL/synWTred670_700nm_exc2RPnocycle1nm_revb.ascii\"\n",
    "DATA_PATH3 = \"data/SCy6803WL/synWTred670_700nm_exc2RPnocycle1nm_revc.ascii\"\n",
    "DATA_PATH4 = \"data/SCy6803WL/synWTred670_700nm_exc2RPnocycle1nm_revd.ascii\"\n",
    "fig, axes = plot_data_overview(DATA_PATH4, nr_of_data_svd_vectors=3, linlog=True, linthresh=0.1); # todo seismic or bwr\n",
    "# axes[0].set_cmap('seismic')\n"
   ]
  },
  {
   "attachments": {},
   "cell_type": "markdown",
   "metadata": {},
   "source": [
    "## Target Analysis"
   ]
  },
  {
   "attachments": {},
   "cell_type": "markdown",
   "metadata": {},
   "source": [
    "### Used model and parameters"
   ]
  },
  {
   "cell_type": "code",
   "execution_count": null,
   "metadata": {},
   "outputs": [],
   "source": [
    "target_model_path = \"models/20230521model_PSI_TA_SCy6803WL.yml\""
   ]
  },
  {
   "cell_type": "code",
   "execution_count": null,
   "metadata": {},
   "outputs": [],
   "source": [
    "optimizedparameters = load_parameters(\"models/20230521optimized_parameters.csv\")"
   ]
  },
  {
   "attachments": {},
   "cell_type": "markdown",
   "metadata": {},
   "source": [
    "#### Model file"
   ]
  },
  {
   "cell_type": "code",
   "execution_count": null,
   "metadata": {},
   "outputs": [],
   "source": [
    "display_file(target_model_path, syntax=\"yaml\");"
   ]
  },
  {
   "attachments": {},
   "cell_type": "markdown",
   "metadata": {},
   "source": [
    "#### Parameters file"
   ]
  },
  {
   "cell_type": "code",
   "execution_count": null,
   "metadata": {},
   "outputs": [],
   "source": [
    "optimizedparameters"
   ]
  },
  {
   "attachments": {},
   "cell_type": "markdown",
   "metadata": {},
   "source": [
    "### Create scheme and optimize it"
   ]
  },
  {
   "cell_type": "code",
   "execution_count": null,
   "metadata": {},
   "outputs": [],
   "source": [
    "target_scheme = Scheme(\n",
    "    model=target_model_path,\n",
    "    parameters=optimizedparameters,\n",
    "    maximum_number_function_evaluations=15,\n",
    "    clp_link_tolerance=0.1,\n",
    "\n",
    "    data={\n",
    "# TA data\n",
    "        \"670TR1\": DATA_PATH1,\"670TR2\": DATA_PATH2,\"700TR1\": DATA_PATH3,\"700TR2\": DATA_PATH4,\n",
    "        \"Red1SADS\": \"data/SCy6803WL/synWTred670_700nm_exc2RPnocycle1nm_reve.ascii\",\n",
    "        \"WLRCSADS\": \"data/SCy6803WL/synWTred670_700nm_exc2RPnocycle1nm_revf.ascii\",\n",
    "        \"Red2SADS\": \"data/SCy6803WL/synWTred670_700nm_exc2RPnocycle1nm_revg.ascii\",\n",
    "        \"WLRP1SADS\": \"data/SCy6803WL/synWTred670_700nm_exc2RPnocycle1nm_revh.ascii\",\n",
    "    },\n",
    ")\n",
    "target_scheme.validate()"
   ]
  },
  {
   "cell_type": "code",
   "execution_count": null,
   "metadata": {},
   "outputs": [],
   "source": [
    "target_result = optimize(target_scheme,raise_exception=True)"
   ]
  },
  {
   "cell_type": "code",
   "execution_count": null,
   "metadata": {},
   "outputs": [],
   "source": [
    "save_result(\n",
    "        result=target_result,\n",
    "        result_path=\"results/20230520/result.yaml\",\n",
    "        allow_overwrite=True,\n",
    "    )"
   ]
  },
  {
   "attachments": {},
   "cell_type": "markdown",
   "metadata": {},
   "source": [
    "### Results and parameters"
   ]
  },
  {
   "cell_type": "code",
   "execution_count": null,
   "metadata": {},
   "outputs": [],
   "source": [
    "target_result"
   ]
  },
  {
   "cell_type": "code",
   "execution_count": null,
   "metadata": {},
   "outputs": [],
   "source": [
    "target_result.optimized_parameters"
   ]
  },
  {
   "attachments": {},
   "cell_type": "markdown",
   "metadata": {},
   "source": [
    "### Amplitude matrices"
   ]
  },
  {
   "cell_type": "code",
   "execution_count": null,
   "metadata": {},
   "outputs": [],
   "source": [
    "show_a_matrixes(target_result)"
   ]
  },
  {
   "attachments": {},
   "cell_type": "markdown",
   "metadata": {},
   "source": [
    "# Result plots"
   ]
  },
  {
   "attachments": {},
   "cell_type": "markdown",
   "metadata": {},
   "source": [
    "## Fit quality"
   ]
  },
  {
   "cell_type": "code",
   "execution_count": null,
   "metadata": {},
   "outputs": [],
   "source": [
    "target_result_TA=(target_result.data[\"670TR1\"],target_result.data[\"670TR2\"],target_result.data[\"700TR1\"],target_result.data[\"700TR2\"])\n",
    "wavelengths=select_plot_wavelengths(target_result_TA, equidistant_wavelengths=True)\n",
    "plot_fitted_traces(target_result_TA, wavelengths,linlog=True,linthresh=1);"
   ]
  },
  {
   "attachments": {},
   "cell_type": "markdown",
   "metadata": {},
   "source": [
    "## Overview 670 exc"
   ]
  },
  {
   "cell_type": "code",
   "execution_count": null,
   "metadata": {},
   "outputs": [],
   "source": [
    "plot_overview(\n",
    "    target_result.data[\"670TR1\"],\n",
    "    nr_of_data_svd_vectors=4,\n",
    "    nr_of_residual_svd_vectors=1,\n",
    "    linlog=False,\n",
    "    linthresh=1,cycler=cycler(color=['y','g', 'tab:orange','r','k','c','b','m', 'tab:purple'])\n",
    ");"
   ]
  },
  {
   "cell_type": "code",
   "execution_count": null,
   "metadata": {},
   "outputs": [],
   "source": [
    "plot_overview(\n",
    "    target_result.data[\"670TR2\"],\n",
    "    nr_of_data_svd_vectors=4,\n",
    "    nr_of_residual_svd_vectors=1,\n",
    "    linlog=False,\n",
    "    linthresh=1,cycler=cycler(color=['y','g', 'tab:orange','r','k','c','b','m', 'tab:purple'])\n",
    ");"
   ]
  },
  {
   "attachments": {},
   "cell_type": "markdown",
   "metadata": {},
   "source": [
    "## Overview 700 exc"
   ]
  },
  {
   "cell_type": "code",
   "execution_count": null,
   "metadata": {},
   "outputs": [],
   "source": [
    "plot_overview(\n",
    "    target_result.data[\"700TR1\"],\n",
    "    nr_of_data_svd_vectors=4,\n",
    "    nr_of_residual_svd_vectors=1,\n",
    "    linlog=False,\n",
    "    linthresh=1,cycler=cycler(color=['y','g', 'tab:orange','r','k','c','b','m', 'tab:purple'])\n",
    ");"
   ]
  },
  {
   "cell_type": "code",
   "execution_count": null,
   "metadata": {},
   "outputs": [],
   "source": [
    "plot_overview(\n",
    "    target_result.data[\"700TR2\"],\n",
    "    nr_of_data_svd_vectors=4,\n",
    "    nr_of_residual_svd_vectors=1,\n",
    "    linlog=False,\n",
    "    linthresh=1,cycler=cycler(color=['y','g', 'tab:orange','r','k','c','b','m', 'tab:purple'])\n",
    ");"
   ]
  },
  {
   "attachments": {},
   "cell_type": "markdown",
   "metadata": {},
   "source": [
    "## Comparison of the estimated SADS (orange) and the guidance spectra (blue)\n",
    "The guidance spectra are (smooth) shapes derived elsewhere "
   ]
  },
  {
   "cell_type": "code",
   "execution_count": null,
   "metadata": {},
   "outputs": [],
   "source": [
    "target_result.data[\"Red1SADS\"].data.plot()\n",
    "target_result.data[\"Red1SADS\"].fitted_data.plot()\n",
    "target_result.data[\"Red2SADS\"].data.plot()\n",
    "target_result.data[\"Red2SADS\"].fitted_data.plot()"
   ]
  },
  {
   "cell_type": "code",
   "execution_count": null,
   "metadata": {},
   "outputs": [],
   "source": [
    "target_result.data[\"WLRP1SADS\"].data.plot()\n",
    "target_result.data[\"WLRP1SADS\"].fitted_data.plot()"
   ]
  },
  {
   "cell_type": "code",
   "execution_count": null,
   "metadata": {},
   "outputs": [],
   "source": [
    "target_result.data[\"WLRCSADS\"].data.plot()\n",
    "target_result.data[\"WLRCSADS\"].fitted_data.plot()"
   ]
  }
 ],
 "metadata": {
  "kernelspec": {
   "display_name": "Python 3.10.6 ('pyglotaran_310_pip')",
   "language": "python",
   "name": "python3"
  },
  "language_info": {
   "codemirror_mode": {
    "name": "ipython",
    "version": 3
   },
   "file_extension": ".py",
   "mimetype": "text/x-python",
   "name": "python",
   "nbconvert_exporter": "python",
   "pygments_lexer": "ipython3",
   "version": "3.10.11"
  },
  "vscode": {
   "interpreter": {
    "hash": "c96939a00adbd8139175687d27213cba589faa8203f47f613c3350e59358e0cf"
   }
  }
 },
 "nbformat": 4,
 "nbformat_minor": 4
}
