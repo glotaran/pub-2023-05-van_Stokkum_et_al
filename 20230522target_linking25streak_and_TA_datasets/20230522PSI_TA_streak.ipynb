{
 "cells": [
  {
   "attachments": {},
   "cell_type": "markdown",
   "metadata": {},
   "source": [
    "## Simultaneous target analysis of emission of WL-PSI and FRL-PSI of SCo7335, CF9212, FT7521, CT7203, and of TA FT7521"
   ]
  },
  {
   "attachments": {},
   "cell_type": "markdown",
   "metadata": {},
   "source": [
    "### Defining datasets and inspect data"
   ]
  },
  {
   "cell_type": "code",
   "execution_count": null,
   "metadata": {},
   "outputs": [],
   "source": [
    "from __future__ import annotations\n",
    "\n",
    "from glotaran.io import load_parameters, save_result\n",
    "from glotaran.optimization.optimize import optimize\n",
    "from glotaran.project.scheme import Scheme\n",
    "from pyglotaran_extras.inspect import show_a_matrixes\n",
    "from pyglotaran_extras import (\n",
    "    plot_overview,\n",
    "    plot_data_overview,\n",
    "    plot_fitted_traces,\n",
    "    select_plot_wavelengths,\n",
    ")"
   ]
  },
  {
   "cell_type": "markdown",
   "metadata": {},
   "source": [
    "The code below defined the (groups of) datasets used in the analysis. Only for a single dataset the plot_data_overview is shown to avoid repetition, it is left as an execirse to the reader to inspect the other data."
   ]
  },
  {
   "cell_type": "code",
   "execution_count": null,
   "metadata": {},
   "outputs": [],
   "source": [
    "# order FRLtr1, WLtr1, FRLtr2, WLtr2, FRLtr4\n",
    "CF9212DATA_PATH1 = \"data/dispcorr/PSI_9212FR_WLtr124av8nobridgetarget_dispcorra.ascii\"\n",
    "CF9212DATA_PATH2 = \"data/dispcorr/PSI_9212FR_WLtr124av8nobridgetarget_dispcorrb.ascii\"\n",
    "CF9212DATA_PATH3 = \"data/dispcorr/PSI_9212FR_WLtr124av8nobridgetarget_dispcorrc.ascii\"\n",
    "CF9212DATA_PATH4 = \"data/dispcorr/PSI_9212FR_WLtr124av8nobridgetarget_dispcorrd.ascii\"\n",
    "CF9212DATA_PATH5 = \"data/dispcorr/PSI_9212FR_WLtr124av8nobridgetarget_dispcorre.ascii\"\n",
    "\n",
    "# to plot uncomment the next lines with \"Ctrl /\"\n",
    "plot_data_overview(\n",
    "    CF9212DATA_PATH1,\n",
    "    nr_of_data_svd_vectors=4,\n",
    "    linlog=True,\n",
    "    linthresh=30,\n",
    "    irf_location=57,\n",
    ")\n",
    "# plot_data_overview(CF9212DATA_PATH2, nr_of_data_svd_vectors=4, linlog=True, linthresh=30,irf_location=57);\n",
    "# etc"
   ]
  },
  {
   "cell_type": "code",
   "execution_count": null,
   "metadata": {},
   "outputs": [],
   "source": [
    "CT7203DATA_PATH1 = \"data/dispcorr/PSI_7203FR_WLtr124av8nobridgetarget_dispcorra.ascii\"\n",
    "CT7203DATA_PATH2 = \"data/dispcorr/PSI_7203FR_WLtr124av8nobridgetarget_dispcorrb.ascii\"\n",
    "CT7203DATA_PATH3 = \"data/dispcorr/PSI_7203FR_WLtr124av8nobridgetarget_dispcorrc.ascii\"\n",
    "CT7203DATA_PATH4 = \"data/dispcorr/PSI_7203FR_WLtr124av8nobridgetarget_dispcorrd.ascii\"\n",
    "CT7203DATA_PATH5 = \"data/dispcorr/PSI_7203FR_WLtr124av8nobridgetarget_dispcorre.ascii\"\n",
    "# plot_data_overview(CT7203DATA_PATH3, nr_of_data_svd_vectors=4, linlog=True, linthresh=30,irf_location=57);"
   ]
  },
  {
   "cell_type": "code",
   "execution_count": null,
   "metadata": {},
   "outputs": [],
   "source": [
    "Syn7335DATA_PATH1 = \"data/dispcorr/PSI_7335FR_WLtr124av8nobridgetarget_dispcorra.ascii\"\n",
    "Syn7335DATA_PATH2 = \"data/dispcorr/PSI_7335FR_WLtr124av8nobridgetarget_dispcorrb.ascii\"\n",
    "Syn7335DATA_PATH3 = \"data/dispcorr/PSI_7335FR_WLtr124av8nobridgetarget_dispcorrc.ascii\"\n",
    "Syn7335DATA_PATH4 = \"data/dispcorr/PSI_7335FR_WLtr124av8nobridgetarget_dispcorrd.ascii\"\n",
    "Syn7335DATA_PATH5 = \"data/dispcorr/PSI_7335FR_WLtr124av8nobridgetarget_dispcorre.ascii\"\n",
    "# plot_data_overview(CT7203DATA_PATH3, nr_of_data_svd_vectors=4, linlog=True, linthresh=30,irf_location=57);"
   ]
  },
  {
   "cell_type": "code",
   "execution_count": null,
   "metadata": {},
   "outputs": [],
   "source": [
    "sDATA_PATH1 = \"data/dispcorr/PSI_7521FR_WLtr124av8nobridgetarget_dispcorraFRtr1.ascii\"\n",
    "sDATA_PATH2 = \"data/dispcorr/PSI_7521FR_WLtr124av8nobridgetarget_dispcorrbWLtr1.ascii\"\n",
    "sDATA_PATH3 = \"data/dispcorr/PSI_7521FR_WLtr124av8nobridgetarget_dispcorrcFRtr2.ascii\"\n",
    "sDATA_PATH4 = \"data/dispcorr/PSI_7521FR_WLtr124av8nobridgetarget_dispcorrdWLtr2.ascii\"\n",
    "sDATA_PATH5 = \"data/dispcorr/PSI_7521FR_WLtr124av8nobridgetarget_dispcorreFRtr4.ascii\"\n",
    "# plot_data_overview(sDATA_PATH3, nr_of_data_svd_vectors=4, linlog=True, linthresh=30,irf_location=57);"
   ]
  },
  {
   "cell_type": "code",
   "execution_count": null,
   "metadata": {},
   "outputs": [],
   "source": [
    "DATA_PATH1 = \"data/1/CherepanovFR_WLtargeta.ascii\"\n",
    "DATA_PATH2 = \"data/1/CherepanovFR_WLtargetb.ascii\"\n",
    "DATA_PATH3 = \"data/1/CherepanovFR_WLtargetc.ascii\"\n",
    "DATA_PATH4 = \"data/1/CherepanovFR_WLtargetd.ascii\"\n",
    "DATA_PATH5 = \"data/1/CherepanovFR_WLtargete.ascii\"\n",
    "# plot_data_overview(DATA_PATH3, nr_of_data_svd_vectors=3, linlog=True, linthresh=1);"
   ]
  },
  {
   "attachments": {},
   "cell_type": "markdown",
   "metadata": {},
   "source": [
    "## Defining filenames for the Target Analysis"
   ]
  },
  {
   "attachments": {},
   "cell_type": "markdown",
   "metadata": {},
   "source": [
    "### Used model and parameters"
   ]
  },
  {
   "cell_type": "code",
   "execution_count": null,
   "metadata": {},
   "outputs": [],
   "source": [
    "target_model_path = \"models/20230517model_PSI_TA_streak_intermediate_weight.yml\""
   ]
  },
  {
   "cell_type": "code",
   "execution_count": null,
   "metadata": {},
   "outputs": [],
   "source": [
    "target_parameters_path = \"models/20230517optimized_parameters.csv\"\n",
    "optimizedparameters = load_parameters(target_parameters_path)"
   ]
  },
  {
   "attachments": {},
   "cell_type": "markdown",
   "metadata": {},
   "source": [
    "#### Model file"
   ]
  },
  {
   "cell_type": "code",
   "execution_count": null,
   "metadata": {},
   "outputs": [],
   "source": [
    "# Uncomment the following 2 lines to display the target model file in the notebook\n",
    "# from glotaran.utils.ipython import display_file\n",
    "# display_file(target_model_path, syntax=\"yaml\")\n",
    "\n",
    "# Alternatively (recommended), open the file in a text editor to see the model definition"
   ]
  },
  {
   "attachments": {},
   "cell_type": "markdown",
   "metadata": {},
   "source": [
    "#### Parameters file"
   ]
  },
  {
   "cell_type": "code",
   "execution_count": null,
   "metadata": {},
   "outputs": [],
   "source": [
    "# Uncomment the next line and run the cell to print the starting values of the analysis\n",
    "# These starting values have already been optimized, hence the name optimizedparameters\n",
    "\n",
    "# optimizedparameters"
   ]
  },
  {
   "attachments": {},
   "cell_type": "markdown",
   "metadata": {},
   "source": [
    "### Create scheme and optimize it\n",
    "Note that the # sign in front of import has to be removed"
   ]
  },
  {
   "cell_type": "code",
   "execution_count": null,
   "metadata": {},
   "outputs": [],
   "source": [
    "# import glotaran.builtin.megacomplexes.clp_guide\n",
    "target_scheme = Scheme(\n",
    "    model=target_model_path,  # type: ignore\n",
    "    parameters=optimizedparameters,\n",
    "    maximum_number_function_evaluations=2,\n",
    "    clp_link_tolerance=0.1,\n",
    "    data={\n",
    "        # streak data, default FT7521\n",
    "        # \"FT7521FRLtr1\": sDATA_PATH1,\n",
    "        # \"FT7521WLtr1\": sDATA_PATH2,\n",
    "        # \"FT7521FRLtr2\": sDATA_PATH3,\n",
    "        # \"FT7521WLtr2\": sDATA_PATH4,\n",
    "        # \"FT7521FRLtr4\": sDATA_PATH5,\n",
    "        \"FRLtr1\": sDATA_PATH1,\n",
    "        \"WLtr1\": sDATA_PATH2,\n",
    "        \"FRLtr2\": sDATA_PATH3,\n",
    "        \"WLtr2\": sDATA_PATH4,\n",
    "        \"FRLtr4\": sDATA_PATH5,\n",
    "        \"CF9212FRLtr1\": CF9212DATA_PATH1,\n",
    "        \"CF9212WLtr1\": CF9212DATA_PATH2,\n",
    "        \"CF9212FRLtr2\": CF9212DATA_PATH3,\n",
    "        \"CF9212WLtr2\": CF9212DATA_PATH4,\n",
    "        \"CF9212FRLtr4\": CF9212DATA_PATH5,\n",
    "        \"CT7203FRLtr1\": CT7203DATA_PATH1,\n",
    "        \"CT7203WLtr1\": CT7203DATA_PATH2,\n",
    "        \"CT7203FRLtr2\": CT7203DATA_PATH3,\n",
    "        \"CT7203WLtr2\": CT7203DATA_PATH4,\n",
    "        \"CT7203FRLtr4\": CT7203DATA_PATH5,\n",
    "        \"Syn7335FRLtr1\": Syn7335DATA_PATH1,\n",
    "        \"Syn7335WLtr1\": Syn7335DATA_PATH2,\n",
    "        \"Syn7335FRLtr2\": Syn7335DATA_PATH3,\n",
    "        \"Syn7335WLtr2\": Syn7335DATA_PATH4,\n",
    "        \"Syn7335FRLtr4\": Syn7335DATA_PATH5,\n",
    "        \"BulkSAS\": \"data/dispcorr/PSI_7521FR_WLtr124av8nobridgetarget_dispcorrf1Bulk.ascii\",\n",
    "        \"Red1SAS\": \"data/dispcorr/PSI_7521FR_WLtr124av8nobridgetarget_dispcorrg2Red1.ascii\",\n",
    "        \"Red2SAS\": \"data/dispcorr/PSI_7521FR_WLtr124av8nobridgetarget_dispcorrh3Red2.ascii\",\n",
    "        \"WLRCSAS\": \"data/dispcorr/PSI_7521FR_WLtr124av8nobridgetarget_dispcorri4WLRC.ascii\",\n",
    "        \"Chlf1SAS\": \"data/dispcorr/PSI_7521FR_WLtr124av8nobridgetarget_dispcorrj8Chlf1.ascii\",\n",
    "        \"Chlf2SAS\": \"data/dispcorr/PSI_7521FR_WLtr124av8nobridgetarget_dispcorrk9Chlf2.ascii\",\n",
    "        \"FRLRCSAS\": \"data/dispcorr/PSI_7521FR_WLtr124av8nobridgetarget_dispcorrl10FRLRC.ascii\",\n",
    "        \"Syn7335FRLRCSAS\": \"data/dispcorr/PSI_7335FR_WLtr124av8nobridgetarget_dispcorrm.ascii\",\n",
    "        \"freeChlfSAS\": \"data/dispcorr/PSI_7521FR_WLtr124av8nobridgetarget_dispcorrm12freeChlf.ascii\",\n",
    "        # TA data\n",
    "        \"FRL670\": DATA_PATH1,\n",
    "        \"FRL700\": DATA_PATH2,\n",
    "        \"FRL740\": DATA_PATH3,\n",
    "        \"WL700\": DATA_PATH4,\n",
    "        \"WL720\": DATA_PATH5,\n",
    "        \"Red1SADS\": \"data/1/CherepanovFR_WLtargetg.ascii\",\n",
    "        \"Red2SADS\": \"data/1/CherepanovFR_WLtargeth.ascii\",\n",
    "        \"WLRCSADS\": \"data/1/CherepanovFR_WLtargeti.ascii\",\n",
    "        \"WLRP1SADS\": \"data/1/CherepanovFR_WLtargetj.ascii\",\n",
    "        \"Chlf1SADS\": \"data/1/CherepanovFR_WLtargetm.ascii\",\n",
    "        \"Chlf2SADS\": \"data/1/CherepanovFR_WLtargetn.ascii\",\n",
    "        \"FRLRCSADS\": \"data/1/CherepanovFR_WLtargeto.ascii\",\n",
    "        \"FRLRP1SADS\": \"data/1/CherepanovFR_WLtargetp.ascii\",\n",
    "    },  # type: ignore\n",
    ")\n",
    "target_scheme.validate()"
   ]
  },
  {
   "cell_type": "code",
   "execution_count": null,
   "metadata": {},
   "outputs": [],
   "source": [
    "# warning: this can take a minute or two, even on a fast machine\n",
    "target_result = optimize(target_scheme, raise_exception=True)"
   ]
  },
  {
   "attachments": {},
   "cell_type": "markdown",
   "metadata": {},
   "source": [
    "For reference, the final Cost should be\n",
    "- 3.6336e+03"
   ]
  },
  {
   "cell_type": "markdown",
   "metadata": {},
   "source": [
    "To save the results of the optimization we can use the `save_result` command.\n",
    "\n",
    "Because it saves *everything* it consumes about 40MB of disk space per save."
   ]
  },
  {
   "cell_type": "code",
   "execution_count": null,
   "metadata": {},
   "outputs": [],
   "source": [
    "save_result(\n",
    "    result=target_result,\n",
    "    result_path=\"results/20230523/result.yaml\",\n",
    "    allow_overwrite=True,\n",
    ")"
   ]
  },
  {
   "attachments": {},
   "cell_type": "markdown",
   "metadata": {},
   "source": [
    "## Populations and SADS estimated with the sequential scheme"
   ]
  },
  {
   "cell_type": "markdown",
   "metadata": {},
   "source": [
    "<sub>Note: The color scheme of the plots in this notebook may not match published figures.</sub>"
   ]
  },
  {
   "cell_type": "code",
   "execution_count": null,
   "metadata": {},
   "outputs": [],
   "source": [
    "import matplotlib.pyplot as plt\n",
    "from pyglotaran_extras.plotting.plot_concentrations import plot_concentrations\n",
    "from pyglotaran_extras.plotting.plot_spectra import plot_sas\n",
    "\n",
    "\n",
    "def plot_concentration_and_spectra(result_dataset, linthresh=1):\n",
    "    # fig, axes = plt.subplots(1, 2, figsize=(18, 7))\n",
    "    fig, axes = plt.subplots(1, 2, figsize=(15, 4))\n",
    "    # myFRLcolors=['y','g', 'tab:orange','r','k','c','b', 'tab:brown','m', 'tab:purple']\n",
    "    # custom_cycler=cycler(color=myFRLcolors)\n",
    "    # axes[0].set_prop_cycle(custom_cycler)\n",
    "    plot_concentrations(\n",
    "        result_dataset, axes[0], center_λ=0, linlog=True, linthresh=linthresh\n",
    "    )\n",
    "    plot_sas(result_dataset, axes[1])\n",
    "    return fig, axes\n",
    "\n",
    "\n",
    "fig, axes = plot_concentration_and_spectra(target_result.data[\"WL700\"])\n",
    "fig, axes = plot_concentration_and_spectra(target_result.data[\"FRL700\"])\n",
    "axes[0].set_xlabel(\"Time (ps)\")\n",
    "axes[0].set_ylabel(\"\")\n",
    "axes[0].axhline(0, color=\"k\", linewidth=1)\n",
    "axes[0].annotate(\"A\", xy=(-0.1, 1), xycoords=\"axes fraction\", fontsize=16)\n",
    "axes[1].set_xlabel(\"Wavelength (nm)\")\n",
    "axes[1].set_ylabel(\"SADS (mOD)\")\n",
    "axes[1].set_title(\"SADS\")\n",
    "axes[1].axhline(0, color=\"k\", linewidth=1)\n",
    "axes[1].annotate(\"B\", xy=(-0.1, 1), xycoords=\"axes fraction\", fontsize=16)\n",
    "fig, axes = plot_concentration_and_spectra(target_result.data[\"FRLtr2\"], linthresh=10)\n",
    "fig, axes = plot_concentration_and_spectra(\n",
    "    target_result.data[\"CT7203FRLtr2\"], linthresh=10\n",
    ")\n",
    "fig, axes = plot_concentration_and_spectra(\n",
    "    target_result.data[\"CF9212FRLtr2\"], linthresh=10\n",
    ")\n",
    "fig, axes = plot_concentration_and_spectra(\n",
    "    target_result.data[\"Syn7335FRLtr2\"], linthresh=10\n",
    ")"
   ]
  },
  {
   "cell_type": "code",
   "execution_count": null,
   "metadata": {},
   "outputs": [],
   "source": [
    "target_result.root_mean_square_error"
   ]
  },
  {
   "cell_type": "code",
   "execution_count": null,
   "metadata": {},
   "outputs": [],
   "source": [
    "additional_penalties = target_result.additional_penalty\n",
    "table = '\\n'.join([f\" | \".join([f\"{item:.2f}\" for item in row]) for row in additional_penalties])\n",
    "print(table)"
   ]
  },
  {
   "cell_type": "code",
   "execution_count": null,
   "metadata": {},
   "outputs": [],
   "source": [
    "target_result"
   ]
  },
  {
   "cell_type": "code",
   "execution_count": null,
   "metadata": {},
   "outputs": [],
   "source": [
    "target_result.optimized_parameters"
   ]
  },
  {
   "cell_type": "code",
   "execution_count": null,
   "metadata": {},
   "outputs": [],
   "source": [
    "show_a_matrixes(target_result)"
   ]
  },
  {
   "cell_type": "code",
   "execution_count": null,
   "metadata": {},
   "outputs": [],
   "source": [
    "compartments = target_scheme.model.initial_concentration[\"inputFRL740\"].compartments\n",
    "\n",
    "target_scheme.model.k_matrix[\"kmFRLRC\"].matrix_as_markdown(compartments).replace(\n",
    "    \"0.0000e+00\", \"\"\n",
    ")"
   ]
  },
  {
   "attachments": {},
   "cell_type": "markdown",
   "metadata": {},
   "source": [
    "### Result plots"
   ]
  },
  {
   "attachments": {},
   "cell_type": "markdown",
   "metadata": {},
   "source": [
    "## Comparison of the estimated SAS (orange) and the guidance spectra (blue)\n",
    "The guidance spectra are shapes derived elsewhere"
   ]
  },
  {
   "cell_type": "code",
   "execution_count": null,
   "metadata": {},
   "outputs": [],
   "source": [
    "target_result.data[\"Chlf1SAS\"].data.plot()\n",
    "target_result.data[\"Chlf1SAS\"].fitted_data.plot()\n",
    "target_result.data[\"Chlf2SAS\"].data.plot()\n",
    "target_result.data[\"Chlf2SAS\"].fitted_data.plot()"
   ]
  },
  {
   "cell_type": "code",
   "execution_count": null,
   "metadata": {},
   "outputs": [],
   "source": [
    "target_result.data[\"freeChlfSAS\"].data.plot()\n",
    "target_result.data[\"freeChlfSAS\"].fitted_data.plot();"
   ]
  },
  {
   "cell_type": "code",
   "execution_count": null,
   "metadata": {},
   "outputs": [],
   "source": [
    "target_result.data[\"Red1SAS\"].data.plot()\n",
    "target_result.data[\"Red1SAS\"].fitted_data.plot();"
   ]
  },
  {
   "cell_type": "code",
   "execution_count": null,
   "metadata": {},
   "outputs": [],
   "source": [
    "target_result.data[\"Red2SAS\"].data.plot()\n",
    "target_result.data[\"Red2SAS\"].fitted_data.plot();"
   ]
  },
  {
   "cell_type": "code",
   "execution_count": null,
   "metadata": {},
   "outputs": [],
   "source": [
    "target_result.data[\"Red1SAS\"].data.plot()\n",
    "target_result.data[\"Red1SAS\"].fitted_data.plot();\n",
    "target_result.data[\"Red2SAS\"].data.plot()\n",
    "target_result.data[\"Red2SAS\"].fitted_data.plot();"
   ]
  },
  {
   "cell_type": "code",
   "execution_count": null,
   "metadata": {},
   "outputs": [],
   "source": [
    "target_result.data[\"WLRP1SADS\"].data.plot();\n",
    "target_result.data[\"WLRP1SADS\"].fitted_data.plot();"
   ]
  },
  {
   "cell_type": "code",
   "execution_count": null,
   "metadata": {},
   "outputs": [],
   "source": [
    "target_result.data[\"FRLRP1SADS\"].data.plot();\n",
    "target_result.data[\"FRLRP1SADS\"].fitted_data.plot();"
   ]
  },
  {
   "cell_type": "code",
   "execution_count": null,
   "metadata": {},
   "outputs": [],
   "source": [
    "target_result.data[\"FRLRCSADS\"].data.plot();\n",
    "target_result.data[\"FRLRCSADS\"].fitted_data.plot();"
   ]
  },
  {
   "cell_type": "code",
   "execution_count": null,
   "metadata": {},
   "outputs": [],
   "source": [
    "target_result.data[\"FRLRCSAS\"].data.plot();\n",
    "target_result.data[\"FRLRCSAS\"].fitted_data.plot();"
   ]
  },
  {
   "cell_type": "code",
   "execution_count": null,
   "metadata": {},
   "outputs": [],
   "source": [
    "target_result.data[\"Syn7335FRLRCSAS\"].data.plot();\n",
    "target_result.data[\"Syn7335FRLRCSAS\"].fitted_data.plot();"
   ]
  },
  {
   "attachments": {},
   "cell_type": "markdown",
   "metadata": {},
   "source": [
    "### Overlay plots of concentrations"
   ]
  },
  {
   "cell_type": "code",
   "execution_count": null,
   "metadata": {},
   "outputs": [],
   "source": [
    "from cycler import cycler\n",
    "\n",
    "fig, ax = plt.subplots(1, 1)\n",
    "myFRLcolors = [\n",
    "    \"y\",\n",
    "    \"g\",\n",
    "    \"tab:orange\",\n",
    "    \"r\",\n",
    "    \"k\",\n",
    "    \"c\",\n",
    "    \"b\",\n",
    "    \"tab:brown\",\n",
    "    \"m\",\n",
    "    \"tab:purple\",\n",
    "]\n",
    "custom_cycler = cycler(color=myFRLcolors, linestyle=[\"--\"] * 10)\n",
    "ax.set_prop_cycle(custom_cycler)\n",
    "concplot = target_result.data[\"FRL740\"].species_concentration.plot.line(\n",
    "    x=\"time\", add_legend=False, ax=ax\n",
    ")\n",
    "custom_cycler = cycler(color=myFRLcolors, linestyle=[\"-\"] * 10)\n",
    "ax.set_prop_cycle(custom_cycler)\n",
    "concplot = target_result.data[\"FRL700\"].species_concentration.plot.line(\n",
    "    x=\"time\", add_legend=False, ax=ax\n",
    ")\n",
    "custom_cycler = cycler(color=myFRLcolors, linestyle=[\":\"] * 10)\n",
    "ax.set_prop_cycle(custom_cycler)\n",
    "concplot = target_result.data[\"FRL670\"].species_concentration.plot.line(\n",
    "    x=\"time\", add_legend=False, ax=ax\n",
    ")\n",
    "ax.set_xscale(\"symlog\", linthresh=1)\n",
    "ax.set_xlabel(\"Time (ps)\")\n",
    "ax.set_ylabel(\"Population\")\n",
    "ax.legend(\n",
    "    target_result.data[\"FRL740\"].species.values, bbox_to_anchor=(0.8, -0.13), ncol=3\n",
    ")"
   ]
  },
  {
   "cell_type": "code",
   "execution_count": null,
   "metadata": {},
   "outputs": [],
   "source": [
    "from pyglotaran_extras.plotting.utils import shift_time_axis_by_irf_location\n",
    "from cycler import cycler\n",
    "\n",
    "fig, ax = plt.subplots(1, 1)\n",
    "myFRLcolors = [\"g\", \"tab:orange\", \"r\", \"k\", \"m\", \"tab:purple\", \"tab:brown\", \"tab:olive\"]\n",
    "custom_cycler = cycler(color=myFRLcolors, linestyle=[\"-\"] * 8)\n",
    "ax.set_prop_cycle(custom_cycler)\n",
    "species_concentration = shift_time_axis_by_irf_location(\n",
    "    target_result.data[\"FRLtr2\"].species_concentration,\n",
    "    target_result.data[\"FRLtr2\"].irf_center,\n",
    ")\n",
    "concplot = species_concentration.plot.line(x=\"time\", add_legend=False, ax=ax)\n",
    "custom_cycler = cycler(color=myFRLcolors, linestyle=[\"--\"] * 8)\n",
    "ax.set_prop_cycle(custom_cycler)\n",
    "species_concentration = shift_time_axis_by_irf_location(\n",
    "    target_result.data[\"WLtr2\"].species_concentration,\n",
    "    target_result.data[\"WLtr2\"].irf_center,\n",
    ")\n",
    "concplot = species_concentration.plot.line(x=\"time\", add_legend=False, ax=ax)\n",
    "ax.set_xscale(\"symlog\", linthresh=10)\n",
    "ax.set_xlabel(\"Time (ps)\")\n",
    "ax.set_ylabel(\"Population\")\n",
    "ax.legend(\n",
    "    target_result.data[\"FRLtr2\"].species.values, bbox_to_anchor=(0.8, -0.13), ncol=3\n",
    ")"
   ]
  },
  {
   "attachments": {},
   "cell_type": "markdown",
   "metadata": {},
   "source": [
    "## FRL TA SADS"
   ]
  },
  {
   "cell_type": "code",
   "execution_count": null,
   "metadata": {},
   "outputs": [],
   "source": [
    "# target_result.data[\"WLRP2\"].plot()\n",
    "# from regex import F\n",
    "\n",
    "\n",
    "fig, ax = plt.subplots(1, 1)\n",
    "myFRLcolors = [\n",
    "    \"y\",\n",
    "    \"g\",\n",
    "    \"tab:orange\",\n",
    "    \"r\",\n",
    "    \"k\",\n",
    "    \"c\",\n",
    "    \"b\",\n",
    "    \"tab:brown\",\n",
    "    \"m\",\n",
    "    \"tab:purple\",\n",
    "]\n",
    "custom_cycler = cycler(color=myFRLcolors)\n",
    "ax.set_prop_cycle(custom_cycler)\n",
    "SADSplot = target_result.data[\"FRL740\"].species_associated_spectra.plot.line(\n",
    "    x=\"spectral\", add_legend=False, ax=ax\n",
    ")\n",
    "# SADSplot[0].add_legend(bbox_to_anchor=(0.5, -.05))\n",
    "ax.legend(\n",
    "    target_result.data[\"FRL740\"].species.values, bbox_to_anchor=(0.8, -0.13), ncol=3\n",
    ")"
   ]
  },
  {
   "attachments": {},
   "cell_type": "markdown",
   "metadata": {},
   "source": [
    "## WL TA SADS"
   ]
  },
  {
   "cell_type": "code",
   "execution_count": null,
   "metadata": {},
   "outputs": [],
   "source": [
    "fig, ax = plt.subplots(1, 1)\n",
    "SADSplot = target_result.data[\"WL720\"].species_associated_spectra.plot.line(\n",
    "    x=\"spectral\", add_legend=False, ax=ax\n",
    ")\n",
    "# SADSplot[0].add_legend(bbox_to_anchor=(0.5, -.05))\n",
    "ax.legend(\n",
    "    target_result.data[\"WL720\"].species.values, bbox_to_anchor=(0.8, -0.13), ncol=3\n",
    ")"
   ]
  },
  {
   "attachments": {},
   "cell_type": "markdown",
   "metadata": {},
   "source": [
    "## FRL SAS"
   ]
  },
  {
   "cell_type": "code",
   "execution_count": null,
   "metadata": {},
   "outputs": [],
   "source": [
    "fig, ax = plt.subplots(1, 1)\n",
    "SADSplot = target_result.data[\"FRLtr2\"].species_associated_spectra.plot.line(\n",
    "    x=\"spectral\", add_legend=False, ax=ax\n",
    ")\n",
    "# SADSplot[0].add_legend(bbox_to_anchor=(0.5, -.05))\n",
    "ax.legend(\n",
    "    target_result.data[\"FRLtr2\"].species.values, bbox_to_anchor=(0.8, -0.13), ncol=3\n",
    ")"
   ]
  },
  {
   "cell_type": "code",
   "execution_count": null,
   "metadata": {},
   "outputs": [],
   "source": [
    "# target_result.data[\"WLRP2\"].plot()\n",
    "# from regex import F\n",
    "\n",
    "\n",
    "fig, ax = plt.subplots(1, 1)\n",
    "SADSplot = target_result.data[\"CF9212FRLtr2\"].species_associated_spectra.plot.line(\n",
    "    x=\"spectral\", add_legend=False, ax=ax\n",
    ")\n",
    "# SADSplot[0].add_legend(bbox_to_anchor=(0.5, -.05))\n",
    "ax.legend(\n",
    "    target_result.data[\"CF9212FRLtr2\"].species.values,\n",
    "    bbox_to_anchor=(0.8, -0.13),\n",
    "    ncol=3,\n",
    ")"
   ]
  },
  {
   "cell_type": "code",
   "execution_count": null,
   "metadata": {},
   "outputs": [],
   "source": [
    "fig, ax = plt.subplots(1, 1)\n",
    "SADSplot = target_result.data[\"CT7203FRLtr2\"].species_associated_spectra.plot.line(\n",
    "    x=\"spectral\", add_legend=False, ax=ax\n",
    ")\n",
    "# SADSplot[0].add_legend(bbox_to_anchor=(0.5, -.05))\n",
    "ax.legend(\n",
    "    target_result.data[\"CT7203FRLtr2\"].species.values,\n",
    "    bbox_to_anchor=(0.8, -0.13),\n",
    "    ncol=3,\n",
    ")"
   ]
  },
  {
   "cell_type": "code",
   "execution_count": null,
   "metadata": {},
   "outputs": [],
   "source": [
    "# target_result.data[\"WLRP2\"].plot()\n",
    "# from regex import F\n",
    "\n",
    "\n",
    "fig, ax = plt.subplots(1, 1)\n",
    "SADSplot = target_result.data[\"Syn7335FRLtr2\"].species_associated_spectra.plot.line(\n",
    "    x=\"spectral\", add_legend=False, ax=ax\n",
    ")\n",
    "# SADSplot[0].add_legend(bbox_to_anchor=(0.5, -.05))\n",
    "ax.legend(\n",
    "    target_result.data[\"Syn7335FRLtr2\"].species.values,\n",
    "    bbox_to_anchor=(0.8, -0.13),\n",
    "    ncol=3,\n",
    ")"
   ]
  },
  {
   "attachments": {},
   "cell_type": "markdown",
   "metadata": {},
   "source": [
    "## WL SAS"
   ]
  },
  {
   "cell_type": "code",
   "execution_count": null,
   "metadata": {},
   "outputs": [],
   "source": [
    "fig, ax = plt.subplots(1, 1)\n",
    "SADSplot = target_result.data[\"WLtr2\"].species_associated_spectra.plot.line(\n",
    "    x=\"spectral\", add_legend=False, ax=ax\n",
    ")\n",
    "# SADSplot[0].add_legend(bbox_to_anchor=(0.5, -.05))\n",
    "ax.legend(\n",
    "    target_result.data[\"WLtr2\"].species.values, bbox_to_anchor=(0.8, -0.13), ncol=3\n",
    ")"
   ]
  },
  {
   "cell_type": "code",
   "execution_count": null,
   "metadata": {},
   "outputs": [],
   "source": [
    "fig, ax = plt.subplots(1, 1)\n",
    "SADSplot = target_result.data[\"Syn7335WLtr2\"].species_associated_spectra.plot.line(\n",
    "    x=\"spectral\", add_legend=False, ax=ax\n",
    ")\n",
    "# SADSplot[0].add_legend(bbox_to_anchor=(0.5, -.05))\n",
    "ax.legend(\n",
    "    target_result.data[\"Syn7335WLtr2\"].species.values,\n",
    "    bbox_to_anchor=(0.8, -0.13),\n",
    "    ncol=3,\n",
    ")"
   ]
  },
  {
   "attachments": {},
   "cell_type": "markdown",
   "metadata": {},
   "source": [
    "## overlay of FRL-RP2 SADS\n",
    "note that with the different excitation wavelengths the final SADS differs, cf. the EADS in the Cherepanov 2020 paper."
   ]
  },
  {
   "cell_type": "code",
   "execution_count": null,
   "metadata": {},
   "outputs": [],
   "source": [
    "fig, ax = plt.subplots(1, 1)\n",
    "# target_result.data[\"WLRP2\"].plot()\n",
    "target_result.data[\"FRL740\"].species_associated_spectra.sel(\n",
    "    species=[\"FRLRP2\"]\n",
    ").plot.line(x=\"spectral\", label=\"FRLRP2\", ax=ax)\n",
    "target_result.data[\"FRL700\"].species_associated_spectra.sel(\n",
    "    species=[\"FRLRP2a\"]\n",
    ").plot.line(x=\"spectral\", label=\"FRLRP2a\", ax=ax)\n",
    "plot670 = (\n",
    "    target_result.data[\"FRL670\"]\n",
    "    .species_associated_spectra.sel(species=[\"FRLRP2b\"])\n",
    "    .plot.line(x=\"spectral\", label=\"FRLRP2b\", ax=ax)\n",
    ")\n",
    "# plot670[0].legend()\n",
    "ax.legend()"
   ]
  },
  {
   "attachments": {},
   "cell_type": "markdown",
   "metadata": {},
   "source": [
    "## overlay of WL-RP2 SADS\n",
    "note that with the different excitation wavelengths the final SADS differs, cf. the EADS in the Cherepanov 2020 paper."
   ]
  },
  {
   "cell_type": "code",
   "execution_count": null,
   "metadata": {},
   "outputs": [],
   "source": [
    "fig, ax = plt.subplots(1, 1)\n",
    "# target_result.data[\"WLRP2\"].plot()\n",
    "target_result.data[\"WL720\"].species_associated_spectra.sel(species=[\"WLRP2\"]).plot.line(\n",
    "    x=\"spectral\", label=\"WLRP2\", ax=ax\n",
    ")\n",
    "target_result.data[\"WL700\"].species_associated_spectra.sel(\n",
    "    species=[\"WLRP2a\"]\n",
    ").plot.line(x=\"spectral\", label=\"WLRP2a\", ax=ax)\n",
    "# plot670[0].legend()\n",
    "ax.legend()"
   ]
  },
  {
   "attachments": {},
   "cell_type": "markdown",
   "metadata": {},
   "source": [
    "#### Overview plots per dataset"
   ]
  },
  {
   "attachments": {},
   "cell_type": "markdown",
   "metadata": {},
   "source": [
    "## TA"
   ]
  },
  {
   "cell_type": "code",
   "execution_count": null,
   "metadata": {},
   "outputs": [],
   "source": [
    "from cycler import cycler\n",
    "\n",
    "plot_overview(\n",
    "    target_result.data[\"FRL740\"],\n",
    "    nr_of_data_svd_vectors=4,\n",
    "    nr_of_residual_svd_vectors=1,\n",
    "    linlog=True,\n",
    "    linthresh=1,\n",
    "    cycler=cycler(\n",
    "        color=[\"y\", \"g\", \"tab:orange\", \"r\", \"k\", \"c\", \"b\", \"m\", \"tab:purple\"]\n",
    "    ),\n",
    ");"
   ]
  },
  {
   "cell_type": "code",
   "execution_count": null,
   "metadata": {},
   "outputs": [],
   "source": [
    "plot_overview(\n",
    "    target_result.data[\"FRL700\"],\n",
    "    nr_of_data_svd_vectors=4,\n",
    "    nr_of_residual_svd_vectors=1,\n",
    "    linlog=True,\n",
    "    linthresh=1,\n",
    "    cycler=cycler(\n",
    "        color=[\"y\", \"g\", \"tab:orange\", \"r\", \"k\", \"c\", \"b\", \"m\", \"tab:purple\"]\n",
    "    ),\n",
    ");"
   ]
  },
  {
   "cell_type": "code",
   "execution_count": null,
   "metadata": {},
   "outputs": [],
   "source": [
    "plot_overview(\n",
    "    target_result.data[\"FRL670\"],\n",
    "    nr_of_data_svd_vectors=4,\n",
    "    nr_of_residual_svd_vectors=1,\n",
    "    linlog=True,\n",
    "    linthresh=1,\n",
    "    cycler=cycler(\n",
    "        color=[\"y\", \"g\", \"tab:orange\", \"r\", \"k\", \"c\", \"b\", \"m\", \"tab:purple\"]\n",
    "    ),\n",
    ")"
   ]
  },
  {
   "cell_type": "code",
   "execution_count": null,
   "metadata": {},
   "outputs": [],
   "source": [
    "from cycler import cycler\n",
    "\n",
    "plot_overview(\n",
    "    target_result.data[\"WL720\"],\n",
    "    nr_of_data_svd_vectors=4,\n",
    "    nr_of_residual_svd_vectors=1,\n",
    "    linlog=True,\n",
    "    linthresh=1,\n",
    "    cycler=cycler(\n",
    "        color=[\"y\", \"g\", \"tab:orange\", \"r\", \"k\", \"c\", \"b\", \"m\", \"tab:purple\"]\n",
    "    ),\n",
    ")"
   ]
  },
  {
   "cell_type": "code",
   "execution_count": null,
   "metadata": {},
   "outputs": [],
   "source": [
    "from cycler import cycler\n",
    "\n",
    "plot_overview(\n",
    "    target_result.data[\"WL700\"],\n",
    "    nr_of_data_svd_vectors=4,\n",
    "    nr_of_residual_svd_vectors=1,\n",
    "    linlog=True,\n",
    "    linthresh=1,\n",
    "    cycler=cycler(\n",
    "        color=[\"y\", \"g\", \"tab:orange\", \"r\", \"k\", \"c\", \"b\", \"m\", \"tab:purple\"]\n",
    "    ),\n",
    ")"
   ]
  },
  {
   "attachments": {},
   "cell_type": "markdown",
   "metadata": {},
   "source": [
    "## Streak (selection)"
   ]
  },
  {
   "cell_type": "code",
   "execution_count": null,
   "metadata": {},
   "outputs": [],
   "source": [
    "from cycler import cycler\n",
    "\n",
    "plot_overview(\n",
    "    target_result.data[\"FRLtr2\"],\n",
    "    nr_of_data_svd_vectors=4,\n",
    "    nr_of_residual_svd_vectors=1,\n",
    "    linlog=True,\n",
    "    linthresh=30,\n",
    "    cycler=cycler(\n",
    "        color=[\"g\", \"tab:orange\", \"r\", \"k\", \"m\", \"tab:purple\", \"y\", \"tab:brown\"]\n",
    "    ),\n",
    ")"
   ]
  },
  {
   "cell_type": "code",
   "execution_count": null,
   "metadata": {},
   "outputs": [],
   "source": [
    "from cycler import cycler\n",
    "\n",
    "plot_overview(\n",
    "    target_result.data[\"FRLtr4\"],\n",
    "    nr_of_data_svd_vectors=4,\n",
    "    nr_of_residual_svd_vectors=1,\n",
    "    linlog=True,\n",
    "    linthresh=30,\n",
    "    cycler=cycler(\n",
    "        color=[\"g\", \"tab:orange\", \"r\", \"k\", \"m\", \"tab:purple\", \"y\", \"tab:brown\"]\n",
    "    ),\n",
    ")"
   ]
  },
  {
   "cell_type": "code",
   "execution_count": null,
   "metadata": {},
   "outputs": [],
   "source": [
    "from cycler import cycler\n",
    "\n",
    "plot_overview(\n",
    "    target_result.data[\"WLtr2\"],\n",
    "    nr_of_data_svd_vectors=4,\n",
    "    nr_of_residual_svd_vectors=1,\n",
    "    linlog=True,\n",
    "    linthresh=30,\n",
    "    cycler=cycler(color=[\"g\", \"tab:orange\", \"r\", \"tab:gray\", \"tab:brown\", \"y\", \"y\"]),\n",
    ")"
   ]
  },
  {
   "cell_type": "code",
   "execution_count": null,
   "metadata": {},
   "outputs": [],
   "source": [
    "from cycler import cycler\n",
    "\n",
    "plot_overview(\n",
    "    target_result.data[\"CT7203WLtr1\"],\n",
    "    nr_of_data_svd_vectors=4,\n",
    "    nr_of_residual_svd_vectors=1,\n",
    "    linlog=True,\n",
    "    linthresh=15,\n",
    "    cycler=cycler(\n",
    "        color=[\"g\", \"tab:orange\", \"r\", \"k\", \"m\", \"tab:purple\", \"y\", \"tab:brown\"]\n",
    "    ),\n",
    ")"
   ]
  },
  {
   "cell_type": "code",
   "execution_count": null,
   "metadata": {},
   "outputs": [],
   "source": [
    "from cycler import cycler\n",
    "\n",
    "plot_overview(\n",
    "    target_result.data[\"CT7203WLtr2\"],\n",
    "    nr_of_data_svd_vectors=4,\n",
    "    nr_of_residual_svd_vectors=1,\n",
    "    linlog=True,\n",
    "    linthresh=15,\n",
    "    cycler=cycler(\n",
    "        color=[\"g\", \"tab:orange\", \"r\", \"k\", \"m\", \"tab:purple\", \"y\", \"tab:brown\"]\n",
    "    ),\n",
    ")"
   ]
  },
  {
   "cell_type": "code",
   "execution_count": null,
   "metadata": {},
   "outputs": [],
   "source": [
    "from cycler import cycler\n",
    "\n",
    "plot_overview(\n",
    "    target_result.data[\"CT7203FRLtr1\"],\n",
    "    nr_of_data_svd_vectors=4,\n",
    "    nr_of_residual_svd_vectors=1,\n",
    "    linlog=True,\n",
    "    linthresh=15,\n",
    "    cycler=cycler(\n",
    "        color=[\"g\", \"tab:orange\", \"r\", \"k\", \"m\", \"tab:purple\", \"y\", \"tab:brown\"]\n",
    "    ),\n",
    ")"
   ]
  },
  {
   "cell_type": "code",
   "execution_count": null,
   "metadata": {},
   "outputs": [],
   "source": [
    "from cycler import cycler\n",
    "\n",
    "plot_overview(\n",
    "    target_result.data[\"CT7203FRLtr2\"],\n",
    "    nr_of_data_svd_vectors=4,\n",
    "    nr_of_residual_svd_vectors=1,\n",
    "    linlog=True,\n",
    "    linthresh=30,\n",
    "    cycler=cycler(\n",
    "        color=[\"g\", \"tab:orange\", \"r\", \"k\", \"m\", \"tab:purple\", \"y\", \"tab:brown\"]\n",
    "    ),\n",
    ")"
   ]
  },
  {
   "cell_type": "code",
   "execution_count": null,
   "metadata": {},
   "outputs": [],
   "source": [
    "from cycler import cycler\n",
    "\n",
    "plot_overview(\n",
    "    target_result.data[\"CT7203FRLtr4\"],\n",
    "    nr_of_data_svd_vectors=4,\n",
    "    nr_of_residual_svd_vectors=1,\n",
    "    linlog=True,\n",
    "    linthresh=15,\n",
    "    cycler=cycler(\n",
    "        color=[\"g\", \"tab:orange\", \"r\", \"k\", \"m\", \"tab:purple\", \"y\", \"tab:brown\"]\n",
    "    ),\n",
    ")"
   ]
  },
  {
   "cell_type": "code",
   "execution_count": null,
   "metadata": {},
   "outputs": [],
   "source": [
    "from cycler import cycler\n",
    "\n",
    "plot_overview(\n",
    "    target_result.data[\"CF9212FRLtr4\"],\n",
    "    nr_of_data_svd_vectors=4,\n",
    "    nr_of_residual_svd_vectors=1,\n",
    "    linlog=True,\n",
    "    linthresh=15,\n",
    "    cycler=cycler(\n",
    "        color=[\"g\", \"tab:orange\", \"r\", \"k\", \"m\", \"tab:purple\", \"y\", \"tab:brown\"]\n",
    "    ),\n",
    ")"
   ]
  },
  {
   "attachments": {},
   "cell_type": "markdown",
   "metadata": {},
   "source": [
    "#### Fit quality\n",
    "overlays of traces and fits, 16 wavelengths per dataset"
   ]
  },
  {
   "cell_type": "code",
   "execution_count": null,
   "metadata": {},
   "outputs": [],
   "source": [
    "target_result_streak = (\n",
    "    target_result.data[\"FRLtr1\"],\n",
    "    target_result.data[\"WLtr1\"],\n",
    "    target_result.data[\"FRLtr2\"],\n",
    "    target_result.data[\"WLtr2\"],\n",
    "    target_result.data[\"FRLtr4\"],\n",
    ")"
   ]
  },
  {
   "cell_type": "code",
   "execution_count": null,
   "metadata": {},
   "outputs": [],
   "source": [
    "CT7203target_result_streak = (\n",
    "    target_result.data[\"CT7203FRLtr1\"],\n",
    "    target_result.data[\"CT7203WLtr1\"],\n",
    "    target_result.data[\"CT7203FRLtr2\"],\n",
    "    target_result.data[\"CT7203WLtr2\"],\n",
    "    target_result.data[\"CT7203FRLtr4\"],\n",
    ")"
   ]
  },
  {
   "cell_type": "code",
   "execution_count": null,
   "metadata": {},
   "outputs": [],
   "source": [
    "CF9212target_result_streak = (\n",
    "    target_result.data[\"CF9212FRLtr1\"],\n",
    "    target_result.data[\"CF9212WLtr1\"],\n",
    "    target_result.data[\"CF9212FRLtr2\"],\n",
    "    target_result.data[\"CF9212WLtr2\"],\n",
    "    target_result.data[\"CF9212FRLtr4\"],\n",
    ")"
   ]
  },
  {
   "cell_type": "code",
   "execution_count": null,
   "metadata": {},
   "outputs": [],
   "source": [
    "Syn7335target_result_streak = (\n",
    "    target_result.data[\"Syn7335FRLtr1\"],\n",
    "    target_result.data[\"Syn7335WLtr1\"],\n",
    "    target_result.data[\"Syn7335FRLtr2\"],\n",
    "    target_result.data[\"Syn7335WLtr2\"],\n",
    "    target_result.data[\"Syn7335FRLtr4\"],\n",
    ")"
   ]
  },
  {
   "cell_type": "code",
   "execution_count": null,
   "metadata": {},
   "outputs": [],
   "source": [
    "target_result_TA = (\n",
    "    target_result.data[\"FRL670\"],\n",
    "    target_result.data[\"FRL700\"],\n",
    "    target_result.data[\"FRL740\"],\n",
    "    target_result.data[\"WL700\"],\n",
    "    target_result.data[\"WL720\"],\n",
    ")"
   ]
  },
  {
   "cell_type": "code",
   "execution_count": null,
   "metadata": {},
   "outputs": [],
   "source": [
    "wavelengths = select_plot_wavelengths(\n",
    "    target_result_streak, equidistant_wavelengths=True\n",
    ")\n",
    "plot_fitted_traces(target_result_streak, wavelengths, linlog=True, linthresh=15);"
   ]
  },
  {
   "cell_type": "code",
   "execution_count": null,
   "metadata": {},
   "outputs": [],
   "source": [
    "wavelengths = select_plot_wavelengths(\n",
    "    CT7203target_result_streak, equidistant_wavelengths=True\n",
    ")\n",
    "plot_fitted_traces(CT7203target_result_streak, wavelengths, linlog=True, linthresh=15);"
   ]
  },
  {
   "cell_type": "code",
   "execution_count": null,
   "metadata": {},
   "outputs": [],
   "source": [
    "wavelengths = select_plot_wavelengths(\n",
    "    target_result_streak, equidistant_wavelengths=True\n",
    ")\n",
    "plot_fitted_traces(CF9212target_result_streak, wavelengths, linlog=True, linthresh=15);"
   ]
  },
  {
   "cell_type": "code",
   "execution_count": null,
   "metadata": {},
   "outputs": [],
   "source": [
    "wavelengths = select_plot_wavelengths(\n",
    "    target_result_streak, equidistant_wavelengths=True\n",
    ")\n",
    "plot_fitted_traces(Syn7335target_result_streak, wavelengths, linlog=True, linthresh=15);"
   ]
  },
  {
   "cell_type": "code",
   "execution_count": null,
   "metadata": {},
   "outputs": [],
   "source": [
    "wavelengths = select_plot_wavelengths(target_result_TA, equidistant_wavelengths=True)\n",
    "plot_fitted_traces(target_result_TA, wavelengths, linlog=True, linthresh=1);"
   ]
  },
  {
   "cell_type": "code",
   "execution_count": null,
   "metadata": {},
   "outputs": [],
   "source": []
  }
 ],
 "metadata": {
  "kernelspec": {
   "display_name": "Python 3.10.6 ('pyglotaran_310_pip')",
   "language": "python",
   "name": "python3"
  },
  "language_info": {
   "codemirror_mode": {
    "name": "ipython",
    "version": 3
   },
   "file_extension": ".py",
   "mimetype": "text/x-python",
   "name": "python",
   "nbconvert_exporter": "python",
   "pygments_lexer": "ipython3",
   "version": "3.10.11"
  },
  "vscode": {
   "interpreter": {
    "hash": "c96939a00adbd8139175687d27213cba589faa8203f47f613c3350e59358e0cf"
   }
  }
 },
 "nbformat": 4,
 "nbformat_minor": 4
}
